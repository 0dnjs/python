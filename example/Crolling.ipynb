{
 "cells": [
  {
   "cell_type": "code",
   "execution_count": null,
   "metadata": {},
   "outputs": [],
   "source": [
    "# 주어진 조건에 해당하는 데이터를 크롤링하는 프로그램을 작성하시오.\n",
    "\n",
    "# [ 크롤링 사이트 URL ]\n",
    "# https://www.data.go.kr/index.do\n",
    "\n",
    "# [ 입력 예시 ]\n",
    "# 어떤 공공데이터를 찾으시나요? 도서\n",
    "# 수집하실 페이지 범위를 입력하세요(예: 1~4): 2~4\n",
    "\n",
    "# [ 결과 ]\n",
    "# data_info.json 파일 생성"
   ]
  }
 ],
 "metadata": {
  "language_info": {
   "name": "python"
  },
  "orig_nbformat": 4
 },
 "nbformat": 4,
 "nbformat_minor": 2
}
