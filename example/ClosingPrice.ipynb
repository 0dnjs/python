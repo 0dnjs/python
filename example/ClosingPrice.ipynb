{
 "cells": [
  {
   "cell_type": "code",
   "execution_count": 4,
   "metadata": {},
   "outputs": [
    {
     "name": "stdout",
     "output_type": "stream",
     "text": [
      "[ 종가 평균 ]      =>       10520.0\n"
     ]
    }
   ],
   "source": [
    "\n",
    "# 다음은 대신증권의 최근 5일 종가 데이터이다. 최근 5일치 종가를 리스트에 입력받고 평균 값을 출력하라.\n",
    "\n",
    "# [ 10000, 10500, 10300, 10700, 11100 ]\n",
    "\n",
    "# [ 입력 예시 ]\n",
    "# 종가 입력: 10000, 10500, 10300, 10700, 11100\n",
    "\n",
    "# [ 출력 결과 ]\n",
    "# [ 종가 평균 ]      =>       10520.0\n",
    "\n",
    "\n",
    "closing_price = input(\"종가 입력: \")\n",
    "\n",
    "closing_price_list = [int(price) for price in closing_price.split(\",\")]\n",
    "\n",
    "average_price = sum(closing_price_list) / len(closing_price_list)\n",
    "\n",
    "print(\"[ 종가 평균 ]      =>       {:.1f}\".format(average_price))"
   ]
  },
  {
   "cell_type": "code",
   "execution_count": null,
   "metadata": {},
   "outputs": [],
   "source": [
    "[ 종가 평균 ]      =>       10520.0"
   ]
  }
 ],
 "metadata": {
  "kernelspec": {
   "display_name": "base",
   "language": "python",
   "name": "python3"
  },
  "language_info": {
   "codemirror_mode": {
    "name": "ipython",
    "version": 3
   },
   "file_extension": ".py",
   "mimetype": "text/x-python",
   "name": "python",
   "nbconvert_exporter": "python",
   "pygments_lexer": "ipython3",
   "version": "3.11.4"
  },
  "orig_nbformat": 4
 },
 "nbformat": 4,
 "nbformat_minor": 2
}
