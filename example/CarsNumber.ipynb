{
 "cells": [
  {
   "cell_type": "code",
   "execution_count": 9,
   "metadata": {},
   "outputs": [
    {
     "name": "stdout",
     "output_type": "stream",
     "text": [
      "[ 입력 데이터 ]   =>   799가 1234\n",
      "[ 딕셔너리 변환 ] =>   {'type': 799, 'purpose': '가', 'number': 1234}\n",
      "[ 차량 정보 ]     =>   {'type': '승합차', 'purpose': '비사업용', 'number': 1234}\n"
     ]
    }
   ],
   "source": [
    "\n",
    "# 차량 번호를 입력 받아 차종, 용도를 판별하는 프로그램을 작성하시오.\n",
    "\n",
    "# [ 입력 예시 ]\n",
    "\n",
    "# 차량 번호 입력: 98포 4332\n",
    "\n",
    "# [ 출력 결과 ]\n",
    "\n",
    "# [ 입력 데이터 ]     =>     98포 4332\n",
    "# [ 딕셔너리 변환 ]   =>     {'type': 98, 'purpose':'포', 'number': 4332}\n",
    "# [ 차량 정보 ]      =>      {'type': '오류', 'purpose':'오류', 'number': 4332}\n",
    "\n",
    "# [ 입력 예시 ]\n",
    "# 차량 번호 입력: 799가 1234\n",
    "\n",
    "# [ 출력 결과 ]\n",
    "\n",
    "# [ 입력 데이터 ]     =>     799가 1234\n",
    "# [ 딕셔너리 변환 ]   =>     {'type': 799, 'purpose':'가', 'number': 1234}\n",
    "# [ 차량 정보 ]      =>      {'type': '승합차', 'purpose':'비상업용', 'number': 1234}\n",
    "\n",
    "\n",
    "license_plate = input(\"차량 번호 입력: \")\n",
    "\n",
    "type_code = int(license_plate[:3])\n",
    "\n",
    "middle_character = license_plate[3]\n",
    "\n",
    "last_digits = int(license_plate[5:])\n",
    "\n",
    "if 100 <= type_code <= 699:\n",
    "    vehicle_type = \"승용차\"\n",
    "elif 700 <= type_code <= 799:\n",
    "    vehicle_type = \"승합차\"\n",
    "elif 800 <= type_code <= 979:\n",
    "    vehicle_type = \"화물차\"\n",
    "elif 980 <= type_code <= 997:\n",
    "    vehicle_type = \"특수차\"\n",
    "elif 998 <= type_code <= 999:\n",
    "    vehicle_type = \"긴급차\"\n",
    "else:\n",
    "    vehicle_type = \"알 수 없음\"\n",
    "\n",
    "\n",
    "if middle_character in \"가나다라마거너더러머버서어저고노도로모보소오조구누두루무부수우주\":\n",
    "    purpose = \"비사업용\"\n",
    "elif middle_character in \"아바사자\":\n",
    "    purpose = \"운수 사업용\"\n",
    "elif middle_character == \"배\":\n",
    "    purpose = \"택배차\"\n",
    "elif middle_character in \"허하호\":\n",
    "    purpose = \"렌터카\"\n",
    "else:\n",
    "    purpose = \"알 수 없음\"\n",
    "\n",
    "license_plate_data = {'type': type_code, 'purpose': middle_character, \"number\": last_digits}\n",
    "\n",
    "result_info = {'type': vehicle_type, 'purpose': purpose, 'number': last_digits}\n",
    "\n",
    "print(\"[ 입력 데이터 ]   =>  \", license_plate)\n",
    "print(\"[ 딕셔너리 변환 ] =>  \", license_plate_data)\n",
    "print(\"[ 차량 정보 ]     =>  \", result_info)"
   ]
  },
  {
   "cell_type": "code",
   "execution_count": null,
   "metadata": {},
   "outputs": [],
   "source": [
    "[ 입력 데이터 ]   =>   799가 1234\n",
    "[ 딕셔너리 변환 ] =>   {'type': 799, 'purpose': '가', 'number': 1234}\n",
    "[ 차량 정보 ]     =>   {'type': '승합차', 'purpose': '비사업용', 'number': 1234}"
   ]
  }
 ],
 "metadata": {
  "kernelspec": {
   "display_name": "base",
   "language": "python",
   "name": "python3"
  },
  "language_info": {
   "codemirror_mode": {
    "name": "ipython",
    "version": 3
   },
   "file_extension": ".py",
   "mimetype": "text/x-python",
   "name": "python",
   "nbconvert_exporter": "python",
   "pygments_lexer": "ipython3",
   "version": "3.11.4"
  },
  "orig_nbformat": 4
 },
 "nbformat": 4,
 "nbformat_minor": 2
}
