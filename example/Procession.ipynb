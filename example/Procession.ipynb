{
 "cells": [
  {
   "cell_type": "code",
   "execution_count": 34,
   "metadata": {},
   "outputs": [
    {
     "name": "stdout",
     "output_type": "stream",
     "text": [
      "출력결과1\n",
      "[[6. 6. 6. 6. 6.]\n",
      " [6. 6. 6. 6. 6.]\n",
      " [6. 6. 6. 6. 6.]\n",
      " [6. 6. 6. 6. 6.]\n",
      " [6. 6. 6. 6. 6.]]\n",
      "\n",
      "출력결과2\n",
      "[[36.  6.  6.  6. 36.]\n",
      " [ 6. 36.  6. 36.  6.]\n",
      " [ 6.  6. 36.  6.  6.]\n",
      " [ 6. 36.  6. 36.  6.]\n",
      " [36.  6.  6.  6. 36.]]\n"
     ]
    }
   ],
   "source": [
    "# 주어진 두 행렬을 사용하여 출력 결과와 동일하게 출력하는 프로그램을 작성하시오.(단, 행렬을 추가해도됨.)\n",
    "\n",
    "# [ np_array1]\n",
    "# [[1. 1. 1. 1. 1.]\n",
    "#  [1. 1. 1. 1. 1.]\n",
    "#  [1. 1. 1. 1. 1.]\n",
    "#  [1. 1. 1. 1. 1.]\n",
    "#  [1. 1. 1. 1. 1.]]\n",
    "\n",
    "# [ np_array2 ]\n",
    "# [[5 5 5 5 5]\n",
    "#  [5 5 5 5 5]\n",
    "#  [5 5 5 5 5]\n",
    "#  [5 5 5 5 5]\n",
    "#  [5 5 5 5 5]]\n",
    "\n",
    "# [ 출력결과1 ]\n",
    "# [[6. 6. 6. 6. 6.]\n",
    "#  [6. 6. 6. 6. 6.]\n",
    "#  [6. 6. 6. 6. 6.]\n",
    "#  [6. 6. 6. 6. 6.]\n",
    "#  [6. 6. 6. 6. 6.]]\n",
    "\n",
    "# [ 출력결과2 ]\n",
    "# [[36. 6. 6. 6. 36.]\n",
    "#  [6. 36. 6. 36. 6.]\n",
    "#  [6. 6. 36. 6. 6.]\n",
    "#  [6. 36. 6. 36. 6.]\n",
    "#  [36. 6. 6. 6. 36.]]\n",
    "\n",
    "\n",
    "import numpy as np\n",
    "\n",
    "np_array1 = np.ones((5, 5))\n",
    "\n",
    "np_array2 = np.full((5, 5), 5)\n",
    "\n",
    "output_result1 = np_array1 + np_array2\n",
    "\n",
    "\n",
    "output_result2 = np_array1 * 6\n",
    "for i in range(5):\n",
    "    output_result2[i, i] = 36\n",
    "    output_result2[i, 4 - i] = 36\n",
    "\n",
    "\n",
    "print(\"출력결과1\")\n",
    "print(output_result1)\n",
    "\n",
    "print(\"\\n출력결과2\")\n",
    "print(output_result2)\n",
    "\n"
   ]
  },
  {
   "cell_type": "code",
   "execution_count": null,
   "metadata": {},
   "outputs": [],
   "source": [
    "출력결과1\n",
    "[[6. 6. 6. 6. 6.]\n",
    " [6. 6. 6. 6. 6.]\n",
    " [6. 6. 6. 6. 6.]\n",
    " [6. 6. 6. 6. 6.]\n",
    " [6. 6. 6. 6. 6.]]\n",
    "\n",
    "출력결과2\n",
    "[[36.  6.  6.  6. 36.]\n",
    " [ 6. 36.  6. 36.  6.]\n",
    " [ 6.  6. 36.  6.  6.]\n",
    " [ 6. 36.  6. 36.  6.]\n",
    " [36.  6.  6.  6. 36.]]"
   ]
  }
 ],
 "metadata": {
  "kernelspec": {
   "display_name": "base",
   "language": "python",
   "name": "python3"
  },
  "language_info": {
   "codemirror_mode": {
    "name": "ipython",
    "version": 3
   },
   "file_extension": ".py",
   "mimetype": "text/x-python",
   "name": "python",
   "nbconvert_exporter": "python",
   "pygments_lexer": "ipython3",
   "version": "3.11.4"
  },
  "orig_nbformat": 4
 },
 "nbformat": 4,
 "nbformat_minor": 2
}
