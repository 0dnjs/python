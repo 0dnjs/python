{
 "cells": [
  {
   "cell_type": "code",
   "execution_count": 2,
   "metadata": {},
   "outputs": [
    {
     "ename": "InvalidSelectorException",
     "evalue": "Message: invalid selector: Unable to locate an element with the xpath expression <mark>네이버 웹툰</mark></a> because of the following error:\nSyntaxError: Failed to execute 'evaluate' on 'Document': The string '<mark>네이버 웹툰</mark></a>' is not a valid XPath expression.\n  (Session info: chrome=117.0.5938.89)\nStacktrace:\n\tGetHandleVerifier [0x00007FF7372178A2+54818]\n\t(No symbol) [0x00007FF737186AD2]\n\t(No symbol) [0x00007FF73703DA3B]\n\t(No symbol) [0x00007FF73704246D]\n\t(No symbol) [0x00007FF737043F5F]\n\t(No symbol) [0x00007FF737044050]\n\t(No symbol) [0x00007FF73707E184]\n\t(No symbol) [0x00007FF73707E67C]\n\t(No symbol) [0x00007FF7370B9627]\n\t(No symbol) [0x00007FF73709EAEF]\n\t(No symbol) [0x00007FF7370B75A2]\n\t(No symbol) [0x00007FF73709E883]\n\t(No symbol) [0x00007FF737073691]\n\t(No symbol) [0x00007FF7370748D4]\n\tGetHandleVerifier [0x00007FF73757B9A2+3610402]\n\tGetHandleVerifier [0x00007FF7375D1870+3962352]\n\tGetHandleVerifier [0x00007FF7375C9D5F+3930847]\n\tGetHandleVerifier [0x00007FF7372B3656+693206]\n\t(No symbol) [0x00007FF737191638]\n\t(No symbol) [0x00007FF73718D944]\n\t(No symbol) [0x00007FF73718DA72]\n\t(No symbol) [0x00007FF73717E123]\n\tBaseThreadInitThunk [0x00007FF8F7E47614+20]\n\tRtlUserThreadStart [0x00007FF8F8D026B1+33]\n",
     "output_type": "error",
     "traceback": [
      "\u001b[1;31m---------------------------------------------------------------------------\u001b[0m",
      "\u001b[1;31mInvalidSelectorException\u001b[0m                  Traceback (most recent call last)",
      "Cell \u001b[1;32mIn[2], line 23\u001b[0m\n\u001b[0;32m     20\u001b[0m time\u001b[39m.\u001b[39msleep(\u001b[39m2\u001b[39m)\n\u001b[0;32m     22\u001b[0m \u001b[39m# 오른쪽으로 이동버튼 클릭\u001b[39;00m\n\u001b[1;32m---> 23\u001b[0m driver\u001b[39m.\u001b[39mfind_element(by\u001b[39m=\u001b[39mBy\u001b[39m.\u001b[39mXPATH, value\u001b[39m=\u001b[39m\u001b[39m'\u001b[39m\u001b[39m<mark>네이버 웹툰</mark></a>\u001b[39m\u001b[39m'\u001b[39m)\u001b[39m.\u001b[39mclick()\n\u001b[0;32m     24\u001b[0m time\u001b[39m.\u001b[39msleep(\u001b[39m1\u001b[39m)\n",
      "File \u001b[1;32mc:\\Users\\Administrator\\anaconda3\\Lib\\site-packages\\selenium\\webdriver\\remote\\webdriver.py:831\u001b[0m, in \u001b[0;36mWebDriver.find_element\u001b[1;34m(self, by, value)\u001b[0m\n\u001b[0;32m    828\u001b[0m     by \u001b[39m=\u001b[39m By\u001b[39m.\u001b[39mCSS_SELECTOR\n\u001b[0;32m    829\u001b[0m     value \u001b[39m=\u001b[39m \u001b[39mf\u001b[39m\u001b[39m'\u001b[39m\u001b[39m[name=\u001b[39m\u001b[39m\"\u001b[39m\u001b[39m{\u001b[39;00mvalue\u001b[39m}\u001b[39;00m\u001b[39m\"\u001b[39m\u001b[39m]\u001b[39m\u001b[39m'\u001b[39m\n\u001b[1;32m--> 831\u001b[0m \u001b[39mreturn\u001b[39;00m \u001b[39mself\u001b[39m\u001b[39m.\u001b[39mexecute(Command\u001b[39m.\u001b[39mFIND_ELEMENT, {\u001b[39m\"\u001b[39m\u001b[39musing\u001b[39m\u001b[39m\"\u001b[39m: by, \u001b[39m\"\u001b[39m\u001b[39mvalue\u001b[39m\u001b[39m\"\u001b[39m: value})[\u001b[39m\"\u001b[39m\u001b[39mvalue\u001b[39m\u001b[39m\"\u001b[39m]\n",
      "File \u001b[1;32mc:\\Users\\Administrator\\anaconda3\\Lib\\site-packages\\selenium\\webdriver\\remote\\webdriver.py:440\u001b[0m, in \u001b[0;36mWebDriver.execute\u001b[1;34m(self, driver_command, params)\u001b[0m\n\u001b[0;32m    438\u001b[0m response \u001b[39m=\u001b[39m \u001b[39mself\u001b[39m\u001b[39m.\u001b[39mcommand_executor\u001b[39m.\u001b[39mexecute(driver_command, params)\n\u001b[0;32m    439\u001b[0m \u001b[39mif\u001b[39;00m response:\n\u001b[1;32m--> 440\u001b[0m     \u001b[39mself\u001b[39m\u001b[39m.\u001b[39merror_handler\u001b[39m.\u001b[39mcheck_response(response)\n\u001b[0;32m    441\u001b[0m     response[\u001b[39m\"\u001b[39m\u001b[39mvalue\u001b[39m\u001b[39m\"\u001b[39m] \u001b[39m=\u001b[39m \u001b[39mself\u001b[39m\u001b[39m.\u001b[39m_unwrap_value(response\u001b[39m.\u001b[39mget(\u001b[39m\"\u001b[39m\u001b[39mvalue\u001b[39m\u001b[39m\"\u001b[39m, \u001b[39mNone\u001b[39;00m))\n\u001b[0;32m    442\u001b[0m     \u001b[39mreturn\u001b[39;00m response\n",
      "File \u001b[1;32mc:\\Users\\Administrator\\anaconda3\\Lib\\site-packages\\selenium\\webdriver\\remote\\errorhandler.py:245\u001b[0m, in \u001b[0;36mErrorHandler.check_response\u001b[1;34m(self, response)\u001b[0m\n\u001b[0;32m    243\u001b[0m         alert_text \u001b[39m=\u001b[39m value[\u001b[39m\"\u001b[39m\u001b[39malert\u001b[39m\u001b[39m\"\u001b[39m]\u001b[39m.\u001b[39mget(\u001b[39m\"\u001b[39m\u001b[39mtext\u001b[39m\u001b[39m\"\u001b[39m)\n\u001b[0;32m    244\u001b[0m     \u001b[39mraise\u001b[39;00m exception_class(message, screen, stacktrace, alert_text)  \u001b[39m# type: ignore[call-arg]  # mypy is not smart enough here\u001b[39;00m\n\u001b[1;32m--> 245\u001b[0m \u001b[39mraise\u001b[39;00m exception_class(message, screen, stacktrace)\n",
      "\u001b[1;31mInvalidSelectorException\u001b[0m: Message: invalid selector: Unable to locate an element with the xpath expression <mark>네이버 웹툰</mark></a> because of the following error:\nSyntaxError: Failed to execute 'evaluate' on 'Document': The string '<mark>네이버 웹툰</mark></a>' is not a valid XPath expression.\n  (Session info: chrome=117.0.5938.89)\nStacktrace:\n\tGetHandleVerifier [0x00007FF7372178A2+54818]\n\t(No symbol) [0x00007FF737186AD2]\n\t(No symbol) [0x00007FF73703DA3B]\n\t(No symbol) [0x00007FF73704246D]\n\t(No symbol) [0x00007FF737043F5F]\n\t(No symbol) [0x00007FF737044050]\n\t(No symbol) [0x00007FF73707E184]\n\t(No symbol) [0x00007FF73707E67C]\n\t(No symbol) [0x00007FF7370B9627]\n\t(No symbol) [0x00007FF73709EAEF]\n\t(No symbol) [0x00007FF7370B75A2]\n\t(No symbol) [0x00007FF73709E883]\n\t(No symbol) [0x00007FF737073691]\n\t(No symbol) [0x00007FF7370748D4]\n\tGetHandleVerifier [0x00007FF73757B9A2+3610402]\n\tGetHandleVerifier [0x00007FF7375D1870+3962352]\n\tGetHandleVerifier [0x00007FF7375C9D5F+3930847]\n\tGetHandleVerifier [0x00007FF7372B3656+693206]\n\t(No symbol) [0x00007FF737191638]\n\t(No symbol) [0x00007FF73718D944]\n\t(No symbol) [0x00007FF73718DA72]\n\t(No symbol) [0x00007FF73717E123]\n\tBaseThreadInitThunk [0x00007FF8F7E47614+20]\n\tRtlUserThreadStart [0x00007FF8F8D026B1+33]\n"
     ]
    }
   ],
   "source": [
    "# 크롬 드라이버\n",
    "from selenium import webdriver\n",
    "from selenium.webdriver.common.keys import Keys\n",
    "from selenium.webdriver.common.by import By\n",
    "\n",
    "import time\n",
    "\n",
    "driver = webdriver.Chrome()\n",
    "\n",
    "# 네이버 웹툰 메인화면 로딩\n",
    "driver.get('https://comic.naver.com/index')\n",
    "\n",
    "time.sleep(1)\n",
    "\n",
    "# 상단 웹툰 탭으로 이동\n",
    "webtoon_menu = driver.find_element(by=By.XPATH, value='//*[@id=\"lnb\"]/div[1]/div/div[1]/div/div[2]/div[2]/a')\n",
    "webtoon_menu.click()\n",
    "\n",
    "\n"
   ]
  }
 ],
 "metadata": {
  "kernelspec": {
   "display_name": "base",
   "language": "python",
   "name": "python3"
  },
  "language_info": {
   "codemirror_mode": {
    "name": "ipython",
    "version": 3
   },
   "file_extension": ".py",
   "mimetype": "text/x-python",
   "name": "python",
   "nbconvert_exporter": "python",
   "pygments_lexer": "ipython3",
   "version": "3.11.4"
  },
  "orig_nbformat": 4
 },
 "nbformat": 4,
 "nbformat_minor": 2
}
